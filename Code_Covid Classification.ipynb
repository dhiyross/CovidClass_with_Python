{
  "nbformat": 4,
  "nbformat_minor": 0,
  "metadata": {
    "colab": {
      "provenance": []
    },
    "kernelspec": {
      "name": "python3",
      "display_name": "Python 3"
    },
    "accelerator": "GPU"
  },
  "cells": [
    {
      "cell_type": "markdown",
      "source": [
        "Rosyiidah Dhiya'Ulhaq (19/446468/TK/49573)\n",
        "\n",
        "> UAS Teknik Pengolahan Citra Biomedis\n",
        "\n",
        "\n",
        "\n",
        "**Classification Positive or Negative using Fully Automated\n",
        "Deep Learning-based Network with Lung CT Image for COVID-19**\n"
      ],
      "metadata": {
        "id": "z5OqYwgU5rYM"
      }
    },
    {
      "cell_type": "code",
      "metadata": {
        "id": "5yqhPi-FS60r"
      },
      "source": [
        "from google.colab import drive\n",
        "drive.mount('/content/drive')"
      ],
      "execution_count": null,
      "outputs": []
    },
    {
      "cell_type": "code",
      "metadata": {
        "id": "7UAp6XlqPeou"
      },
      "source": [
        "#Upgrade dan install essential libraries dari sumber\n",
        "!pip install git+https://github.com/mr7495/RetinaNet"
      ],
      "execution_count": null,
      "outputs": []
    },
    {
      "cell_type": "code",
      "metadata": {
        "id": "zw0BhQ7nPihU"
      },
      "source": [
        "from tensorflow import keras\n",
        "import numpy as np\n",
        "import cv2\n",
        "import os\n",
        "import random\n",
        "import shutil\n",
        "import pandas as pd\n",
        "import csv\n",
        "import glob\n",
        "import zipfile\n",
        "from keras import optimizers\n",
        "from keras.models import Sequential,Model\n",
        "from keras.layers import Dropout, Flatten, Dense,Input\n",
        "from keras.applications.resnet_v2 import ResNet50V2\n",
        "from keras.applications.xception import Xception\n",
        "from tensorflow.keras.applications.resnet50 import ResNet50\n",
        "from keras.applications.vgg16 import VGG16\n",
        "from keras.callbacks import ModelCheckpoint\n",
        "from keras.applications.imagenet_utils import preprocess_input\n",
        "from keras import backend as K\n",
        "from keras.preprocessing.image import ImageDataGenerator\n",
        "from keras.initializers import RandomNormal\n",
        "import keras.backend as k\n",
        "from sklearn.utils import shuffle\n",
        "import io\n",
        "from PIL import Image as pil_image\n",
        "from keras_retinanet import layers\n",
        "import keras.backend as k\n",
        "import keras_retinanet"
      ],
      "execution_count": null,
      "outputs": []
    },
    {
      "cell_type": "code",
      "metadata": {
        "id": "89hm-PDB0SSb"
      },
      "source": [
        "shape=(512,512,1) #shape dari citra dataset yang dipakai (dalam format .tiff)"
      ],
      "execution_count": null,
      "outputs": []
    },
    {
      "cell_type": "code",
      "source": [
        "#CT selection Algorithm\n",
        "!mkdir 'selected_dataD' #membuat folder baru untuk citra terpilih\n",
        "data_path='/content/drive/MyDrive/Dataset/Pasien D (Normal)' #folder dimana dataset berada\n",
        "data_files=[]\n",
        "for r,d,f in os.walk(data_path):\n",
        "  for file in f:\n",
        "    if '.tiff' in file:\n",
        "      data_files.append(os.path.join(r,file)) #mengetahui images path dari data_path\n",
        "\n",
        "selected=[]\n",
        "zero=[]\n",
        "names=[]\n",
        "for img_path in data_files:\n",
        "    names.append(img_path)\n",
        "    pixel=cv2.imread(img_path,cv2.IMREAD_UNCHANGED ) #membaca file .tiff\n",
        "    sp=pixel[240:340,120:370] #memotong wilayah citra, agar sistem fokus menganalisis bagian tengah citra\n",
        "    counted_zero=0\n",
        "    for i in np.reshape(sp,(sp.shape[0]*sp.shape[1],1)):\n",
        "        if i<300: #hitung jumlah nilai piksel di wilayah yang kurang dari 300\n",
        "            counted_zero+=1\n",
        "    zero.append(counted_zero) #tambahkan jumlah piksel gelap gambar ke daftar\n",
        "min_zero=min(zero)\n",
        "max_zero=max(zero)\n",
        "threshold=(max_zero-min_zero)/1.5 #mengatur nilai threshold\n",
        "indices=np.where(np.array(zero)>threshold) #menemukan gambar yang memiliki lebih banyak piksel gelap di wilayah tersebut daripada threshold yang terhitung\n",
        "selected_names=np.array(names)[indices] #image terpilih\n",
        "\n",
        "\n",
        "for selected_img in selected_names:\n",
        "    shutil.copy(selected_img,'selected_dataD')"
      ],
      "metadata": {
        "id": "8lOQSK-FtbxY"
      },
      "execution_count": null,
      "outputs": []
    },
    {
      "cell_type": "code",
      "source": [
        "#The fully automated patient classification network\n",
        "Path='/content/drive/MyDrive/COVID-CTset/trained_networks/ResNet50V2-fold2.hdf5' #Trained Network\n",
        "selected_imgs_path=[]\n",
        "for r,d,f in os.walk('selected_dataD'): #menambahkan folder dari citra terpilih\n",
        "  for file in f:\n",
        "    if '.tiff' in file:\n",
        "      selected_imgs_path.append(os.path.join(r,file)) #mendapatkan images path\n",
        "\n",
        "k.clear_session() #clear keras backend\n",
        "custom_object={'UpsampleLike': keras_retinanet.layers._misc.UpsampleLike} #lapisan upsampling yang digunakan dalam FPN\n",
        "net=keras.models.load_model(Path, custom_objects=custom_object)\n",
        "\n",
        "\n",
        "covid_label=0 #index dari kelas positif COVID-19\n",
        "normal_label=1  #index dari kelas negatif COVID-19\n",
        "normal_predicted=0\n",
        "covid_predicted=0\n",
        "for img_name in selected_imgs_path: #read images\n",
        "  img=cv2.imread(img_name,cv2.IMREAD_UNCHANGED)\n",
        "  pred_ind=np.argmax(net.predict(np.expand_dims(np.expand_dims(img,axis=0),axis=3))[0]) #predicted label\n",
        "  if pred_ind==normal_label:\n",
        "    normal_predicted+=1\n",
        "  else:\n",
        "    covid_predicted+=1\n",
        "\n",
        "all_imgs_num=len(selected_imgs_path)\n",
        "if covid_predicted>=0.1*all_imgs_num: #jika setidaknya 10% dari CT scan pasien diklasifikasikan sebagai covid\n",
        "  print('Pasien teridentifikasi Positif COVID-19')\n",
        "else:\n",
        "  print('Pasien teridentifikasi Negatif COVID-19')"
      ],
      "metadata": {
        "id": "zLsMYQm6yvYO"
      },
      "execution_count": null,
      "outputs": []
    },
    {
      "cell_type": "code",
      "source": [
        "#Mengetahui detail klasifikasi citra CT Scan dari pasien positif COVID-19\n",
        "Path='/content/drive/MyDrive/COVID-CTset/trained_networks/ResNet50V2-fold2.hdf5'\n",
        "selected_imgs_path=[]\n",
        "for r,d,f in os.walk('selected_dataA'):\n",
        "  for file in f:\n",
        "    if '.tiff' in file:\n",
        "      selected_imgs_path.append(os.path.join(r,file))\n",
        "\n",
        "k.clear_session()\n",
        "custom_object={'UpsampleLike': keras_retinanet.layers._misc.UpsampleLike} #\n",
        "net=keras.models.load_model(Path, custom_objects=custom_object)\n",
        "\n",
        "\n",
        "covid_label=0\n",
        "normal_label=1\n",
        "normal_predicted=0\n",
        "covid_predicted=0\n",
        "for img_name in selected_imgs_path:\n",
        "  img=cv2.imread(img_name,cv2.IMREAD_UNCHANGED)\n",
        "  pred_ind=np.argmax(net.predict(np.expand_dims(np.expand_dims(img,axis=0),axis=3))[0])\n",
        "  if pred_ind==normal_label:\n",
        "    normal_predicted+=1\n",
        "    print('Normal') #citra tidak teridentifikasi adanya virus corona\n",
        "  else:\n",
        "    covid_predicted+=1\n",
        "    print('COVID-19')  #citra teridentifikasi adanya virus corona"
      ],
      "metadata": {
        "id": "2uEg_mbny7Jz"
      },
      "execution_count": null,
      "outputs": []
    },
    {
      "cell_type": "code",
      "source": [],
      "metadata": {
        "id": "NU9W3LtKi2sf"
      },
      "execution_count": null,
      "outputs": []
    }
  ]
}